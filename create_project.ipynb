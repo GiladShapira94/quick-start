{
 "cells": [
  {
   "cell_type": "markdown",
   "id": "bab17fa4",
   "metadata": {},
   "source": [
    "# CI/CD Automation Using - Git source example\n"
   ]
  },
  {
   "cell_type": "markdown",
   "id": "b0a982de",
   "metadata": {},
   "source": [
    "This example shows how to create a project YAML for CI/CD Automation from a Github source  - this process is equivalent for using tar, zip source "
   ]
  },
  {
   "cell_type": "markdown",
   "id": "7eb1ce78",
   "metadata": {},
   "source": [
    "After this example you will learn how to:\n",
    "* Create a new MLRun project\n",
    "* Connect a project to source\n",
    "* Build a project YAML "
   ]
  },
  {
   "cell_type": "markdown",
   "id": "2bb60736",
   "metadata": {},
   "source": [
    "Install mlrun - if does not install use ``pip install mlrun==<mlrun server version>`` or ``sh align_mlrun.sh`` (our default mlrun installer - automatically install the server version)"
   ]
  },
  {
   "cell_type": "code",
   "execution_count": 2,
   "id": "045c4731",
   "metadata": {},
   "outputs": [],
   "source": [
    "import mlrun"
   ]
  },
  {
   "cell_type": "markdown",
   "id": "55c0287c",
   "metadata": {},
   "source": [
    "MLRun provides you three option to create or loading a project:\n",
    "\n",
    "1. [get_or_create_project](https://docs.mlrun.org/en/latest/api/mlrun.projects.html?highlight=get_or_create_project#mlrun.projects.get_or_create_project) - this method allows you to load a project from MLRun DB or optionally load it from a yaml/zip/tar/git template, or create/import if doesnt exist\n",
    "2. [new_project](https://docs.mlrun.org/en/latest/api/mlrun.projects.html?highlight=new_project#mlrun.projects.new_project) - Create a new MLRun project, optionally load it from a yaml/zip/tar/git template.\n",
    "3. [load_project](https://docs.mlrun.org/en/latest/api/mlrun.projects.html?highlight=load_project#mlrun.projects.load_project) - Load an MLRun project from yaml/zip/tar/git/dir or from MLRun db\n"
   ]
  },
  {
   "cell_type": "markdown",
   "id": "fc5e9425",
   "metadata": {},
   "source": [
    "On project creation MLRun create a light project YAML, for example: \n",
    "````\n",
    "kind: project\n",
    "metadata:\n",
    "  name: default\n",
    "  created: '2022-06-30T09:41:05.612000'\n",
    "spec:\n",
    "  functions: []\n",
    "  workflows: []\n",
    "  artifacts: []\n",
    "  desired_state: online\n",
    "status:\n",
    "  state: online\n",
    "````\n",
    "For update project YAML use **projec.save()**"
   ]
  },
  {
   "cell_type": "code",
   "execution_count": 2,
   "id": "33d64778",
   "metadata": {},
   "outputs": [],
   "source": [
    "project_name_base = 'quick-start-tutorial'\n",
    "project = mlrun.new_project(project_name_base,user_project=True,init_git=True)"
   ]
  },
  {
   "cell_type": "markdown",
   "id": "24bb9d6e",
   "metadata": {},
   "source": [
    "The source define your source code this source need to include all your project files  - MLRun knows to point to the files in the source address and run the functions based on the source files"
   ]
  },
  {
   "cell_type": "code",
   "execution_count": 3,
   "id": "52bc10b9",
   "metadata": {},
   "outputs": [],
   "source": [
    "source = 'git://github.com/GiladShapira94/quick-start.git"
   ]
  },
  {
   "cell_type": "markdown",
   "id": "065ba052",
   "metadata": {},
   "source": [
    "The pull_at_runtime flag will determine if the code is loaded in runtime or added to the image during build. the first (at runtime) option is better for debugging while the secound is better for production. Note that if you choose the 2nd option you'll need to build the function before run."
   ]
  },
  {
   "cell_type": "code",
   "execution_count": 4,
   "id": "d479b1be",
   "metadata": {},
   "outputs": [],
   "source": [
    "project.set_source(source=source,pull_at_runtime=True)"
   ]
  },
  {
   "cell_type": "markdown",
   "id": "cc818e4f",
   "metadata": {},
   "source": [
    "For functions definations use the [set_function](https://docs.mlrun.org/en/latest/api/mlrun.projects.html?highlight=set_function#mlrun.projects.MlrunProject.set_function) method.\n",
    "\n",
    "The **set_function** method allow you to set the functions attributes in the project YAML, for example: \n",
    "function source (YAML, py, ipynb, function object) , name of the fucntion, function handler, function image and function kind.\n",
    "\n",
    "````\n",
    "project.set_function(\n",
    "    name=\"training\", handler=\"training.model_training\",\n",
    "    image=\"mlrun/mlrun\", kind=\"job\", with_repo=True,\n",
    ")\n",
    "````\n",
    "> Set the with_repo=True to add the entire repo code into the destination container during build or run time. \n",
    "\n",
    "> When using with_repo=True the functions need to be deployed (function.deploy()) to build a container, unless you set project.spec.load_source_on_run=True which instructs MLRun to load the git/archive repo into the function container at run time and do not require a build (this is simpler when developing, for production it’s preferred to build the image with the code)\n"
   ]
  },
  {
   "cell_type": "code",
   "execution_count": 5,
   "id": "f85315af",
   "metadata": {},
   "outputs": [
    {
     "data": {
      "text/plain": [
       "<mlrun.runtimes.function.RemoteRuntime at 0x7f49499ade10>"
      ]
     },
     "execution_count": 5,
     "metadata": {},
     "output_type": "execute_result"
    }
   ],
   "source": [
    "project.set_function(name='prep_data',handler='prep_data.prep_data',kind='job',image='mlrun/mlrun',with_repo=True)"
   ]
  },
  {
   "cell_type": "code",
   "execution_count": 6,
   "id": "564413fb",
   "metadata": {},
   "outputs": [
    {
     "data": {
      "text/plain": [
       "<mlrun.runtimes.kubejob.KubejobRuntime at 0x7f4949971210>"
      ]
     },
     "execution_count": 6,
     "metadata": {},
     "output_type": "execute_result"
    }
   ],
   "source": [
    "project.set_function(name='train_iris',handler='train.train',kind='job',image='mlrun/mlrun',with_repo=True)"
   ]
  },
  {
   "cell_type": "markdown",
   "id": "1df2b011",
   "metadata": {},
   "source": [
    "**Important Note -** Remote functions as Serving need a function YAML as a source or function object\n",
    "Before you creating fucntion YAML you need to the create a fucntion object you can do it with [code_to_function()](https://docs.mlrun.org/en/latest/api/mlrun.html?highlight=code_to_function#mlrun.code_to_function), [new_function()](https://docs.mlrun.org/en/latest/api/mlrun.run.html?highlight=new_function#mlrun.run.new_function).\n",
    "\n",
    "After you creating a function object you can use the [export()](https://docs.mlrun.org/en/latest/api/mlrun.runtimes.html?highlight=export#mlrun.runtimes.BaseRuntime.export) method, For Example:\n",
    "````\n",
    "<function object>.export('./model_training.yaml')\n",
    "````\n",
    "\n",
    "````\n",
    "project.set_function(\n",
    "    func=\"training.yaml\",name='training',with_repo=True,kind='serving')\n",
    "````"
   ]
  },
  {
   "cell_type": "code",
   "execution_count": 4,
   "id": "832201a6",
   "metadata": {},
   "outputs": [],
   "source": [
    "# define a serving graph function with 3 steps (*2, +3, echo)\n",
    "serving = mlrun.new_function(\"serving\", kind=\"serving\", image=\"mlrun/mlrun\")\n",
    "serving.spec.default_class = 'ClassifierModel'\n",
    "# model_file = project.get_artifact_uri('my_model') \n",
    "# serving_fn.add_model('my_model',model_path=model_file)\n",
    "# plot the serving graph\n"
   ]
  },
  {
   "cell_type": "code",
   "execution_count": 5,
   "id": "f00e99b4",
   "metadata": {},
   "outputs": [
    {
     "name": "stdout",
     "output_type": "stream",
     "text": [
      "> 2022-09-19 12:17:09,961 [info] function spec saved to path: serving.yaml\n"
     ]
    },
    {
     "ename": "NameError",
     "evalue": "name 'project' is not defined",
     "output_type": "error",
     "traceback": [
      "\u001b[0;31m---------------------------------------------------------------------------\u001b[0m",
      "\u001b[0;31mNameError\u001b[0m                                 Traceback (most recent call last)",
      "\u001b[0;32m<ipython-input-5-504031a50327>\u001b[0m in \u001b[0;36m<module>\u001b[0;34m\u001b[0m\n\u001b[1;32m      1\u001b[0m \u001b[0;31m# save the function definition into a .yaml file and register it in the project\u001b[0m\u001b[0;34m\u001b[0m\u001b[0;34m\u001b[0m\u001b[0;34m\u001b[0m\u001b[0m\n\u001b[1;32m      2\u001b[0m \u001b[0mserving\u001b[0m\u001b[0;34m.\u001b[0m\u001b[0mexport\u001b[0m\u001b[0;34m(\u001b[0m\u001b[0;34m\"serving.yaml\"\u001b[0m\u001b[0;34m)\u001b[0m\u001b[0;34m\u001b[0m\u001b[0;34m\u001b[0m\u001b[0m\n\u001b[0;32m----> 3\u001b[0;31m \u001b[0mproject\u001b[0m\u001b[0;34m.\u001b[0m\u001b[0mset_function\u001b[0m\u001b[0;34m(\u001b[0m\u001b[0;34m\"serving.yaml\"\u001b[0m\u001b[0;34m,\u001b[0m \u001b[0mname\u001b[0m\u001b[0;34m=\u001b[0m\u001b[0;34m\"serving\"\u001b[0m\u001b[0;34m,\u001b[0m \u001b[0mwith_repo\u001b[0m\u001b[0;34m=\u001b[0m\u001b[0;32mTrue\u001b[0m\u001b[0;34m)\u001b[0m\u001b[0;34m\u001b[0m\u001b[0;34m\u001b[0m\u001b[0m\n\u001b[0m",
      "\u001b[0;31mNameError\u001b[0m: name 'project' is not defined"
     ]
    }
   ],
   "source": [
    "# save the function definition into a .yaml file and register it in the project\n",
    "serving.export(\"serving.yaml\")\n",
    "project.set_function(\"serving.yaml\", name=\"serving\", with_repo=True)"
   ]
  },
  {
   "cell_type": "code",
   "execution_count": 10,
   "id": "d8174e0e",
   "metadata": {},
   "outputs": [
    {
     "data": {
      "text/plain": [
       "<mlrun.projects.project.MlrunProject at 0x7f49499e16d0>"
      ]
     },
     "execution_count": 10,
     "metadata": {},
     "output_type": "execute_result"
    }
   ],
   "source": [
    "project.save()"
   ]
  },
  {
   "cell_type": "markdown",
   "id": "0d21f72f",
   "metadata": {},
   "source": [
    "### Done! \n",
    "**Now you have a project YAML for CI/CD Automation  - Later we will demostrate how to load a project and use this Project YAML**\n",
    "\n",
    "**TIP -** After creating the project YAML Upload/Save it in the source"
   ]
  }
 ],
 "metadata": {
  "kernelspec": {
   "display_name": "Python 3",
   "language": "python",
   "name": "python3"
  },
  "language_info": {
   "codemirror_mode": {
    "name": "ipython",
    "version": 3
   },
   "file_extension": ".py",
   "mimetype": "text/x-python",
   "name": "python",
   "nbconvert_exporter": "python",
   "pygments_lexer": "ipython3",
   "version": "3.7.6"
  }
 },
 "nbformat": 4,
 "nbformat_minor": 5
}

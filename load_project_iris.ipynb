{
 "cells": [
  {
   "cell_type": "markdown",
   "id": "f26e544c",
   "metadata": {},
   "source": [
    "# Load project YAML from - Git, Zip, Tar source"
   ]
  },
  {
   "cell_type": "markdown",
   "id": "80c09b7d",
   "metadata": {},
   "source": [
    "After you create your project YAML you can simply load that project and run, build and deploy your function.\n",
    "You can found an addional information of how to create a project YAML for CI/CD [here](https://github.com/GiladShapira94/load-project-example/blob/master/CI-CD%20automation%20creation.md)"
   ]
  },
  {
   "cell_type": "markdown",
   "id": "2e13cca1",
   "metadata": {},
   "source": [
    "In this session you would learn how to:\n",
    "* Load or Create a new project for remote URL\n",
    "* get a function object \n",
    "* run a function\n",
    "* build a function\n",
    "* deploy a function\n",
    "* run a workflow"
   ]
  },
  {
   "cell_type": "markdown",
   "id": "cc207424",
   "metadata": {},
   "source": [
    "Install mlrun - if does not install use ``pip install mlrun==<mlrun server version>`` or ``sh align_mlrun.sh`` (our default mlrun installer - automatically install the server version)"
   ]
  },
  {
   "cell_type": "code",
   "execution_count": 1,
   "id": "690d4e74",
   "metadata": {},
   "outputs": [],
   "source": [
    "import mlrun"
   ]
  },
  {
   "cell_type": "code",
   "execution_count": 2,
   "id": "838bdd24",
   "metadata": {},
   "outputs": [],
   "source": [
    "source = 'git://github.com/GiladShapira94/quick-start.git#master'"
   ]
  },
  {
   "cell_type": "markdown",
   "id": "3614ca23",
   "metadata": {},
   "source": [
    "#### Load or Create a new project\n",
    "For loading a project you can use :\n",
    "1. [load_project](https://docs.mlrun.org/en/latest/api/mlrun.projects.html?highlight=load_project#mlrun.projects.load_project) thats Load an MLRun project from git or tar or dir \n",
    "````\n",
    "# load the project and run the 'main' workflow\n",
    "project = load_project(\"./\", \"git://github.com/mlrun/project-demo.git\",url=<name (in DB) or git or tar.gz or .zip sources archive path>)\n",
    "````\n",
    "2. [new_project](https://docs.mlrun.org/en/latest/api/mlrun.projects.html?highlight=new_project#mlrun.projects.new_project) thats Create a new MLRun project, optionally load it from a yaml/zip/git template.\n",
    "````\n",
    "# create a project with local and marketplace functions, a workflow, and an artifact\n",
    "project = mlrun.new_project(\"myproj\", \"./\", init_git=True, description=\"my new project\",url=<name (in DB) or git or tar.gz or .zip sources archive path>)\n",
    "````\n",
    "***Important Note-*** If you want to run your code locally you must clone the files to the context directory, execute automaticlly when you load project or create new project and define a url params\n"
   ]
  },
  {
   "cell_type": "code",
   "execution_count": 3,
   "id": "8a9c0b34",
   "metadata": {},
   "outputs": [],
   "source": [
    "project = mlrun.load_project('./clone',url=source,init_git=True,clone=True)"
   ]
  },
  {
   "cell_type": "markdown",
   "id": "7566cfe3",
   "metadata": {},
   "source": [
    "By Specifying a url/remote address MLRun automatically clone/extract your git repository ot tar/zip file\n",
    "\n",
    "if Clone = True, always clone (delete any existing content)"
   ]
  },
  {
   "cell_type": "code",
   "execution_count": 4,
   "id": "0cf8001a",
   "metadata": {},
   "outputs": [
    {
     "name": "stdout",
     "output_type": "stream",
     "text": [
      "kind: project\n",
      "metadata:\n",
      "  name: quick-start-tutorial-shapira\n",
      "spec:\n",
      "  functions:\n",
      "  - name: prep_data\n",
      "    kind: job\n",
      "    image: mlrun/mlrun\n",
      "    handler: prep_data.prep_data\n",
      "    with_repo: true\n",
      "  - name: train_iris\n",
      "    kind: job\n",
      "    image: mlrun/mlrun\n",
      "    handler: train.train_iris\n",
      "    with_repo: true\n",
      "  - url: serving.yaml\n",
      "    name: serving\n",
      "    with_repo: true\n",
      "  workflows: []\n",
      "  artifacts: []\n",
      "  source: git://github.com/GiladShapira94/quick-start.git#refs/heads/master\n",
      "  origin_url: git://github.com/GiladShapira94/quick-start.git#refs/heads/master\n",
      "  load_source_on_run: true\n",
      "  desired_state: online\n",
      "\n"
     ]
    }
   ],
   "source": [
    "print(project.to_yaml())"
   ]
  },
  {
   "cell_type": "markdown",
   "id": "2f13e8de",
   "metadata": {},
   "source": [
    "#### Run Function \n",
    "For run a function you will need to use the [run_function](https://docs.mlrun.org/en/latest/api/mlrun.projects.html?highlight=run_function#mlrun.projects.MlrunProject.run_function) method.\n",
    "This method allows you to run a MLRun **jobs** locally and remotely as long as there is no requirments ( if there is any requirments you will need to build a new image before you run a function)\n",
    "It is equivalent to func.run method.\n",
    "````\n",
    "project.run_function(function='<function name>',params={'num':3},local=False)\n",
    "````\n",
    "````\n",
    "project.run_function(function='<function name>',params={'num':3},local=True)\n",
    "````"
   ]
  },
  {
   "cell_type": "code",
   "execution_count": 5,
   "id": "9877dca5",
   "metadata": {},
   "outputs": [],
   "source": [
    "source_url = mlrun.get_sample_path(\"data/iris/iris.data.raw.csv\")"
   ]
  },
  {
   "cell_type": "code",
   "execution_count": 6,
   "id": "f71039b1",
   "metadata": {},
   "outputs": [
    {
     "name": "stdout",
     "output_type": "stream",
     "text": [
      "> 2022-09-19 13:16:26,630 [warning] run command, file or code were not specified\n",
      "> 2022-09-19 13:16:26,632 [info] starting run prep_data-prep_data uid=c4523b73f1d2421aa4b50f48909c1287 DB=http://mlrun-api:8080\n"
     ]
    },
    {
     "data": {
      "text/html": [
       "<style>\n",
       ".dictlist {\n",
       "  background-color: #4EC64B;\n",
       "  text-align: center;\n",
       "  margin: 4px;\n",
       "  border-radius: 3px; padding: 0px 3px 1px 3px; display: inline-block;}\n",
       ".artifact {\n",
       "  cursor: pointer;\n",
       "  background-color: #4EC64B;\n",
       "  text-align: left;\n",
       "  margin: 4px; border-radius: 3px; padding: 0px 3px 1px 3px; display: inline-block;\n",
       "}\n",
       "div.block.hidden {\n",
       "  display: none;\n",
       "}\n",
       ".clickable {\n",
       "  cursor: pointer;\n",
       "}\n",
       ".ellipsis {\n",
       "  display: inline-block;\n",
       "  max-width: 60px;\n",
       "  white-space: nowrap;\n",
       "  overflow: hidden;\n",
       "  text-overflow: ellipsis;\n",
       "}\n",
       ".master-wrapper {\n",
       "  display: flex;\n",
       "  flex-flow: row nowrap;\n",
       "  justify-content: flex-start;\n",
       "  align-items: stretch;\n",
       "}\n",
       ".master-tbl {\n",
       "  flex: 3\n",
       "}\n",
       ".master-wrapper > div {\n",
       "  margin: 4px;\n",
       "  padding: 10px;\n",
       "}\n",
       "iframe.fileview {\n",
       "  border: 0 none;\n",
       "  height: 100%;\n",
       "  width: 100%;\n",
       "  white-space: pre-wrap;\n",
       "}\n",
       ".pane-header-title {\n",
       "  width: 80%;\n",
       "  font-weight: 500;\n",
       "}\n",
       ".pane-header {\n",
       "  line-height: 1;\n",
       "  background-color: #4EC64B;\n",
       "  padding: 3px;\n",
       "}\n",
       ".pane-header .close {\n",
       "  font-size: 20px;\n",
       "  font-weight: 700;\n",
       "  float: right;\n",
       "  margin-top: -5px;\n",
       "}\n",
       ".master-wrapper .right-pane {\n",
       "  border: 1px inset silver;\n",
       "  width: 40%;\n",
       "  min-height: 300px;\n",
       "  flex: 3\n",
       "  min-width: 500px;\n",
       "}\n",
       ".master-wrapper * {\n",
       "  box-sizing: border-box;\n",
       "}\n",
       "</style><script>\n",
       "function copyToClipboard(fld) {\n",
       "    if (document.queryCommandSupported && document.queryCommandSupported('copy')) {\n",
       "        var textarea = document.createElement('textarea');\n",
       "        textarea.textContent = fld.innerHTML;\n",
       "        textarea.style.position = 'fixed';\n",
       "        document.body.appendChild(textarea);\n",
       "        textarea.select();\n",
       "\n",
       "        try {\n",
       "            return document.execCommand('copy'); // Security exception may be thrown by some browsers.\n",
       "        } catch (ex) {\n",
       "\n",
       "        } finally {\n",
       "            document.body.removeChild(textarea);\n",
       "        }\n",
       "    }\n",
       "}\n",
       "function expandPanel(el) {\n",
       "  const panelName = \"#\" + el.getAttribute('paneName');\n",
       "  console.log(el.title);\n",
       "\n",
       "  document.querySelector(panelName + \"-title\").innerHTML = el.title\n",
       "  iframe = document.querySelector(panelName + \"-body\");\n",
       "\n",
       "  const tblcss = `<style> body { font-family: Arial, Helvetica, sans-serif;}\n",
       "    #csv { margin-bottom: 15px; }\n",
       "    #csv table { border-collapse: collapse;}\n",
       "    #csv table td { padding: 4px 8px; border: 1px solid silver;} </style>`;\n",
       "\n",
       "  function csvToHtmlTable(str) {\n",
       "    return '<div id=\"csv\"><table><tr><td>' +  str.replace(/[\\n\\r]+$/g, '').replace(/[\\n\\r]+/g, '</td></tr><tr><td>')\n",
       "      .replace(/,/g, '</td><td>') + '</td></tr></table></div>';\n",
       "  }\n",
       "\n",
       "  function reqListener () {\n",
       "    if (el.title.endsWith(\".csv\")) {\n",
       "      iframe.setAttribute(\"srcdoc\", tblcss + csvToHtmlTable(this.responseText));\n",
       "    } else {\n",
       "      iframe.setAttribute(\"srcdoc\", this.responseText);\n",
       "    }\n",
       "    console.log(this.responseText);\n",
       "  }\n",
       "\n",
       "  const oReq = new XMLHttpRequest();\n",
       "  oReq.addEventListener(\"load\", reqListener);\n",
       "  oReq.open(\"GET\", el.title);\n",
       "  oReq.send();\n",
       "\n",
       "\n",
       "  //iframe.src = el.title;\n",
       "  const resultPane = document.querySelector(panelName + \"-pane\");\n",
       "  if (resultPane.classList.contains(\"hidden\")) {\n",
       "    resultPane.classList.remove(\"hidden\");\n",
       "  }\n",
       "}\n",
       "function closePanel(el) {\n",
       "  const panelName = \"#\" + el.getAttribute('paneName')\n",
       "  const resultPane = document.querySelector(panelName + \"-pane\");\n",
       "  if (!resultPane.classList.contains(\"hidden\")) {\n",
       "    resultPane.classList.add(\"hidden\");\n",
       "  }\n",
       "}\n",
       "\n",
       "</script>\n",
       "<div class=\"master-wrapper\">\n",
       "  <div class=\"block master-tbl\"><div>\n",
       "<style scoped>\n",
       "    .dataframe tbody tr th:only-of-type {\n",
       "        vertical-align: middle;\n",
       "    }\n",
       "\n",
       "    .dataframe tbody tr th {\n",
       "        vertical-align: top;\n",
       "    }\n",
       "\n",
       "    .dataframe thead th {\n",
       "        text-align: right;\n",
       "    }\n",
       "</style>\n",
       "<table border=\"1\" class=\"dataframe\">\n",
       "  <thead>\n",
       "    <tr style=\"text-align: right;\">\n",
       "      <th>project</th>\n",
       "      <th>uid</th>\n",
       "      <th>iter</th>\n",
       "      <th>start</th>\n",
       "      <th>state</th>\n",
       "      <th>name</th>\n",
       "      <th>labels</th>\n",
       "      <th>inputs</th>\n",
       "      <th>parameters</th>\n",
       "      <th>results</th>\n",
       "      <th>artifacts</th>\n",
       "    </tr>\n",
       "  </thead>\n",
       "  <tbody>\n",
       "    <tr>\n",
       "      <td>quick-start-tutorial-shapira</td>\n",
       "      <td><div title=\"c4523b73f1d2421aa4b50f48909c1287\"><a href=\"https://dashboard.default-tenant.app.cust-cs-il-3-4-1.iguazio-cd1.com/mlprojects/quick-start-tutorial-shapira/jobs/monitor/c4523b73f1d2421aa4b50f48909c1287/overview\" target=\"_blank\" >...909c1287</a></div></td>\n",
       "      <td>0</td>\n",
       "      <td>Sep 19 13:16:26</td>\n",
       "      <td>completed</td>\n",
       "      <td>prep_data-prep_data</td>\n",
       "      <td><div class=\"dictlist\">v3io_user=shapira</div><div class=\"dictlist\">kind=local</div><div class=\"dictlist\">owner=shapira</div><div class=\"dictlist\">host=jupyter-shapira-6d47768cf9-jqk9v</div></td>\n",
       "      <td><div title=\"https://s3.wasabisys.com/iguazio/data/iris/iris.data.raw.csv\">source_url</div></td>\n",
       "      <td></td>\n",
       "      <td><div class=\"dictlist\">num_rows=150</div></td>\n",
       "      <td><div class=\"artifact\" onclick=\"expandPanel(this)\" paneName=\"result1fe813b6\" title=\"files/v3io/projects/quick-start-tutorial-shapira/artifacts/prep_data-prep_data/0/cleaned_data.csv\">cleaned_data</div></td>\n",
       "    </tr>\n",
       "  </tbody>\n",
       "</table>\n",
       "</div></div>\n",
       "  <div id=\"result1fe813b6-pane\" class=\"right-pane block hidden\">\n",
       "    <div class=\"pane-header\">\n",
       "      <span id=\"result1fe813b6-title\" class=\"pane-header-title\">Title</span>\n",
       "      <span onclick=\"closePanel(this)\" paneName=\"result1fe813b6\" class=\"close clickable\">&times;</span>\n",
       "    </div>\n",
       "    <iframe class=\"fileview\" id=\"result1fe813b6-body\"></iframe>\n",
       "  </div>\n",
       "</div>\n"
      ],
      "text/plain": [
       "<IPython.core.display.HTML object>"
      ]
     },
     "metadata": {},
     "output_type": "display_data"
    },
    {
     "name": "stdout",
     "output_type": "stream",
     "text": [
      "\n"
     ]
    },
    {
     "data": {
      "text/html": [
       "<b> > to track results use the .show() or .logs() methods  or <a href=\"https://dashboard.default-tenant.app.cust-cs-il-3-4-1.iguazio-cd1.com/mlprojects/quick-start-tutorial-shapira/jobs/monitor/c4523b73f1d2421aa4b50f48909c1287/overview\" target=\"_blank\">click here</a> to open in UI</b>"
      ],
      "text/plain": [
       "<IPython.core.display.HTML object>"
      ]
     },
     "metadata": {},
     "output_type": "display_data"
    },
    {
     "name": "stdout",
     "output_type": "stream",
     "text": [
      "> 2022-09-19 13:16:27,418 [info] run executed, status=completed\n"
     ]
    },
    {
     "data": {
      "text/plain": [
       "<mlrun.model.RunObject at 0x7fe7ffc3a5d0>"
      ]
     },
     "execution_count": 6,
     "metadata": {},
     "output_type": "execute_result"
    }
   ],
   "source": [
    "project.run_function(function='prep_data',inputs={'source_url': source_url},local=True)"
   ]
  },
  {
   "cell_type": "code",
   "execution_count": 7,
   "id": "addb34a7",
   "metadata": {},
   "outputs": [
    {
     "name": "stdout",
     "output_type": "stream",
     "text": [
      "> 2022-09-19 13:16:27,425 [info] starting run prep_data-prep_data uid=ca105d3051c54e6298d4048adae18984 DB=http://mlrun-api:8080\n",
      "> 2022-09-19 13:16:27,690 [info] Job is running in the background, pod: prep-data-prep-data-kp448\n",
      "> 2022-09-19 13:16:31,446 [info] extracting source from git://github.com/GiladShapira94/quick-start.git#refs/heads/master to /mlrun/code\n",
      "> 2022-09-19 13:16:31,847 [info] run executed, status=completed\n",
      "final state: completed\n"
     ]
    },
    {
     "data": {
      "text/html": [
       "<style>\n",
       ".dictlist {\n",
       "  background-color: #4EC64B;\n",
       "  text-align: center;\n",
       "  margin: 4px;\n",
       "  border-radius: 3px; padding: 0px 3px 1px 3px; display: inline-block;}\n",
       ".artifact {\n",
       "  cursor: pointer;\n",
       "  background-color: #4EC64B;\n",
       "  text-align: left;\n",
       "  margin: 4px; border-radius: 3px; padding: 0px 3px 1px 3px; display: inline-block;\n",
       "}\n",
       "div.block.hidden {\n",
       "  display: none;\n",
       "}\n",
       ".clickable {\n",
       "  cursor: pointer;\n",
       "}\n",
       ".ellipsis {\n",
       "  display: inline-block;\n",
       "  max-width: 60px;\n",
       "  white-space: nowrap;\n",
       "  overflow: hidden;\n",
       "  text-overflow: ellipsis;\n",
       "}\n",
       ".master-wrapper {\n",
       "  display: flex;\n",
       "  flex-flow: row nowrap;\n",
       "  justify-content: flex-start;\n",
       "  align-items: stretch;\n",
       "}\n",
       ".master-tbl {\n",
       "  flex: 3\n",
       "}\n",
       ".master-wrapper > div {\n",
       "  margin: 4px;\n",
       "  padding: 10px;\n",
       "}\n",
       "iframe.fileview {\n",
       "  border: 0 none;\n",
       "  height: 100%;\n",
       "  width: 100%;\n",
       "  white-space: pre-wrap;\n",
       "}\n",
       ".pane-header-title {\n",
       "  width: 80%;\n",
       "  font-weight: 500;\n",
       "}\n",
       ".pane-header {\n",
       "  line-height: 1;\n",
       "  background-color: #4EC64B;\n",
       "  padding: 3px;\n",
       "}\n",
       ".pane-header .close {\n",
       "  font-size: 20px;\n",
       "  font-weight: 700;\n",
       "  float: right;\n",
       "  margin-top: -5px;\n",
       "}\n",
       ".master-wrapper .right-pane {\n",
       "  border: 1px inset silver;\n",
       "  width: 40%;\n",
       "  min-height: 300px;\n",
       "  flex: 3\n",
       "  min-width: 500px;\n",
       "}\n",
       ".master-wrapper * {\n",
       "  box-sizing: border-box;\n",
       "}\n",
       "</style><script>\n",
       "function copyToClipboard(fld) {\n",
       "    if (document.queryCommandSupported && document.queryCommandSupported('copy')) {\n",
       "        var textarea = document.createElement('textarea');\n",
       "        textarea.textContent = fld.innerHTML;\n",
       "        textarea.style.position = 'fixed';\n",
       "        document.body.appendChild(textarea);\n",
       "        textarea.select();\n",
       "\n",
       "        try {\n",
       "            return document.execCommand('copy'); // Security exception may be thrown by some browsers.\n",
       "        } catch (ex) {\n",
       "\n",
       "        } finally {\n",
       "            document.body.removeChild(textarea);\n",
       "        }\n",
       "    }\n",
       "}\n",
       "function expandPanel(el) {\n",
       "  const panelName = \"#\" + el.getAttribute('paneName');\n",
       "  console.log(el.title);\n",
       "\n",
       "  document.querySelector(panelName + \"-title\").innerHTML = el.title\n",
       "  iframe = document.querySelector(panelName + \"-body\");\n",
       "\n",
       "  const tblcss = `<style> body { font-family: Arial, Helvetica, sans-serif;}\n",
       "    #csv { margin-bottom: 15px; }\n",
       "    #csv table { border-collapse: collapse;}\n",
       "    #csv table td { padding: 4px 8px; border: 1px solid silver;} </style>`;\n",
       "\n",
       "  function csvToHtmlTable(str) {\n",
       "    return '<div id=\"csv\"><table><tr><td>' +  str.replace(/[\\n\\r]+$/g, '').replace(/[\\n\\r]+/g, '</td></tr><tr><td>')\n",
       "      .replace(/,/g, '</td><td>') + '</td></tr></table></div>';\n",
       "  }\n",
       "\n",
       "  function reqListener () {\n",
       "    if (el.title.endsWith(\".csv\")) {\n",
       "      iframe.setAttribute(\"srcdoc\", tblcss + csvToHtmlTable(this.responseText));\n",
       "    } else {\n",
       "      iframe.setAttribute(\"srcdoc\", this.responseText);\n",
       "    }\n",
       "    console.log(this.responseText);\n",
       "  }\n",
       "\n",
       "  const oReq = new XMLHttpRequest();\n",
       "  oReq.addEventListener(\"load\", reqListener);\n",
       "  oReq.open(\"GET\", el.title);\n",
       "  oReq.send();\n",
       "\n",
       "\n",
       "  //iframe.src = el.title;\n",
       "  const resultPane = document.querySelector(panelName + \"-pane\");\n",
       "  if (resultPane.classList.contains(\"hidden\")) {\n",
       "    resultPane.classList.remove(\"hidden\");\n",
       "  }\n",
       "}\n",
       "function closePanel(el) {\n",
       "  const panelName = \"#\" + el.getAttribute('paneName')\n",
       "  const resultPane = document.querySelector(panelName + \"-pane\");\n",
       "  if (!resultPane.classList.contains(\"hidden\")) {\n",
       "    resultPane.classList.add(\"hidden\");\n",
       "  }\n",
       "}\n",
       "\n",
       "</script>\n",
       "<div class=\"master-wrapper\">\n",
       "  <div class=\"block master-tbl\"><div>\n",
       "<style scoped>\n",
       "    .dataframe tbody tr th:only-of-type {\n",
       "        vertical-align: middle;\n",
       "    }\n",
       "\n",
       "    .dataframe tbody tr th {\n",
       "        vertical-align: top;\n",
       "    }\n",
       "\n",
       "    .dataframe thead th {\n",
       "        text-align: right;\n",
       "    }\n",
       "</style>\n",
       "<table border=\"1\" class=\"dataframe\">\n",
       "  <thead>\n",
       "    <tr style=\"text-align: right;\">\n",
       "      <th>project</th>\n",
       "      <th>uid</th>\n",
       "      <th>iter</th>\n",
       "      <th>start</th>\n",
       "      <th>state</th>\n",
       "      <th>name</th>\n",
       "      <th>labels</th>\n",
       "      <th>inputs</th>\n",
       "      <th>parameters</th>\n",
       "      <th>results</th>\n",
       "      <th>artifacts</th>\n",
       "    </tr>\n",
       "  </thead>\n",
       "  <tbody>\n",
       "    <tr>\n",
       "      <td>quick-start-tutorial-shapira</td>\n",
       "      <td><div title=\"ca105d3051c54e6298d4048adae18984\"><a href=\"https://dashboard.default-tenant.app.cust-cs-il-3-4-1.iguazio-cd1.com/mlprojects/quick-start-tutorial-shapira/jobs/monitor/ca105d3051c54e6298d4048adae18984/overview\" target=\"_blank\" >...dae18984</a></div></td>\n",
       "      <td>0</td>\n",
       "      <td>Sep 19 13:16:31</td>\n",
       "      <td>completed</td>\n",
       "      <td>prep_data-prep_data</td>\n",
       "      <td><div class=\"dictlist\">v3io_user=shapira</div><div class=\"dictlist\">kind=job</div><div class=\"dictlist\">owner=shapira</div><div class=\"dictlist\">mlrun/client_version=1.1.0-rc22</div><div class=\"dictlist\">host=prep-data-prep-data-kp448</div></td>\n",
       "      <td><div title=\"https://s3.wasabisys.com/iguazio/data/iris/iris.data.raw.csv\">source_url</div></td>\n",
       "      <td></td>\n",
       "      <td><div class=\"dictlist\">num_rows=150</div></td>\n",
       "      <td><div class=\"artifact\" onclick=\"expandPanel(this)\" paneName=\"resultd2d36739\" title=\"files/v3io/projects/quick-start-tutorial-shapira/artifacts/prep_data-prep_data/0/cleaned_data.csv\">cleaned_data</div></td>\n",
       "    </tr>\n",
       "  </tbody>\n",
       "</table>\n",
       "</div></div>\n",
       "  <div id=\"resultd2d36739-pane\" class=\"right-pane block hidden\">\n",
       "    <div class=\"pane-header\">\n",
       "      <span id=\"resultd2d36739-title\" class=\"pane-header-title\">Title</span>\n",
       "      <span onclick=\"closePanel(this)\" paneName=\"resultd2d36739\" class=\"close clickable\">&times;</span>\n",
       "    </div>\n",
       "    <iframe class=\"fileview\" id=\"resultd2d36739-body\"></iframe>\n",
       "  </div>\n",
       "</div>\n"
      ],
      "text/plain": [
       "<IPython.core.display.HTML object>"
      ]
     },
     "metadata": {},
     "output_type": "display_data"
    },
    {
     "name": "stdout",
     "output_type": "stream",
     "text": [
      "\n"
     ]
    },
    {
     "data": {
      "text/html": [
       "<b> > to track results use the .show() or .logs() methods  or <a href=\"https://dashboard.default-tenant.app.cust-cs-il-3-4-1.iguazio-cd1.com/mlprojects/quick-start-tutorial-shapira/jobs/monitor/ca105d3051c54e6298d4048adae18984/overview\" target=\"_blank\">click here</a> to open in UI</b>"
      ],
      "text/plain": [
       "<IPython.core.display.HTML object>"
      ]
     },
     "metadata": {},
     "output_type": "display_data"
    },
    {
     "name": "stdout",
     "output_type": "stream",
     "text": [
      "> 2022-09-19 13:16:34,069 [info] run executed, status=completed\n"
     ]
    }
   ],
   "source": [
    "prep_data_run=project.run_function(function='prep_data',inputs={'source_url': source_url},local=False)"
   ]
  },
  {
   "cell_type": "code",
   "execution_count": 8,
   "id": "ac2d657e",
   "metadata": {},
   "outputs": [],
   "source": [
    "dataset = 'v3io:///projects/quick-start-tutorial-shapira/artifacts/prep_data-prep_data/0/cleaned_data.csv'"
   ]
  },
  {
   "cell_type": "code",
   "execution_count": 9,
   "id": "04b487c0",
   "metadata": {},
   "outputs": [
    {
     "data": {
      "text/plain": [
       "'v3io:///projects/quick-start-tutorial-shapira/artifacts/prep_data-prep_data/0/cleaned_data.csv'"
      ]
     },
     "execution_count": 9,
     "metadata": {},
     "output_type": "execute_result"
    }
   ],
   "source": [
    "dataset"
   ]
  },
  {
   "cell_type": "code",
   "execution_count": 10,
   "id": "2b265e7d",
   "metadata": {},
   "outputs": [
    {
     "name": "stdout",
     "output_type": "stream",
     "text": [
      "> 2022-09-19 13:16:34,156 [info] starting run train_iris-train_iris uid=d4d7f2e05e444142a124f730b6ccccf9 DB=http://mlrun-api:8080\n",
      "> 2022-09-19 13:16:34,415 [info] Job is running in the background, pod: train-iris-train-iris-dtwgp\n",
      "> 2022-09-19 13:16:38,084 [info] extracting source from git://github.com/GiladShapira94/quick-start.git#refs/heads/master to /mlrun/code\n",
      "> 2022-09-19 13:16:40,523 [info] run executed, status=completed\n",
      "final state: completed\n"
     ]
    },
    {
     "data": {
      "text/html": [
       "<style>\n",
       ".dictlist {\n",
       "  background-color: #4EC64B;\n",
       "  text-align: center;\n",
       "  margin: 4px;\n",
       "  border-radius: 3px; padding: 0px 3px 1px 3px; display: inline-block;}\n",
       ".artifact {\n",
       "  cursor: pointer;\n",
       "  background-color: #4EC64B;\n",
       "  text-align: left;\n",
       "  margin: 4px; border-radius: 3px; padding: 0px 3px 1px 3px; display: inline-block;\n",
       "}\n",
       "div.block.hidden {\n",
       "  display: none;\n",
       "}\n",
       ".clickable {\n",
       "  cursor: pointer;\n",
       "}\n",
       ".ellipsis {\n",
       "  display: inline-block;\n",
       "  max-width: 60px;\n",
       "  white-space: nowrap;\n",
       "  overflow: hidden;\n",
       "  text-overflow: ellipsis;\n",
       "}\n",
       ".master-wrapper {\n",
       "  display: flex;\n",
       "  flex-flow: row nowrap;\n",
       "  justify-content: flex-start;\n",
       "  align-items: stretch;\n",
       "}\n",
       ".master-tbl {\n",
       "  flex: 3\n",
       "}\n",
       ".master-wrapper > div {\n",
       "  margin: 4px;\n",
       "  padding: 10px;\n",
       "}\n",
       "iframe.fileview {\n",
       "  border: 0 none;\n",
       "  height: 100%;\n",
       "  width: 100%;\n",
       "  white-space: pre-wrap;\n",
       "}\n",
       ".pane-header-title {\n",
       "  width: 80%;\n",
       "  font-weight: 500;\n",
       "}\n",
       ".pane-header {\n",
       "  line-height: 1;\n",
       "  background-color: #4EC64B;\n",
       "  padding: 3px;\n",
       "}\n",
       ".pane-header .close {\n",
       "  font-size: 20px;\n",
       "  font-weight: 700;\n",
       "  float: right;\n",
       "  margin-top: -5px;\n",
       "}\n",
       ".master-wrapper .right-pane {\n",
       "  border: 1px inset silver;\n",
       "  width: 40%;\n",
       "  min-height: 300px;\n",
       "  flex: 3\n",
       "  min-width: 500px;\n",
       "}\n",
       ".master-wrapper * {\n",
       "  box-sizing: border-box;\n",
       "}\n",
       "</style><script>\n",
       "function copyToClipboard(fld) {\n",
       "    if (document.queryCommandSupported && document.queryCommandSupported('copy')) {\n",
       "        var textarea = document.createElement('textarea');\n",
       "        textarea.textContent = fld.innerHTML;\n",
       "        textarea.style.position = 'fixed';\n",
       "        document.body.appendChild(textarea);\n",
       "        textarea.select();\n",
       "\n",
       "        try {\n",
       "            return document.execCommand('copy'); // Security exception may be thrown by some browsers.\n",
       "        } catch (ex) {\n",
       "\n",
       "        } finally {\n",
       "            document.body.removeChild(textarea);\n",
       "        }\n",
       "    }\n",
       "}\n",
       "function expandPanel(el) {\n",
       "  const panelName = \"#\" + el.getAttribute('paneName');\n",
       "  console.log(el.title);\n",
       "\n",
       "  document.querySelector(panelName + \"-title\").innerHTML = el.title\n",
       "  iframe = document.querySelector(panelName + \"-body\");\n",
       "\n",
       "  const tblcss = `<style> body { font-family: Arial, Helvetica, sans-serif;}\n",
       "    #csv { margin-bottom: 15px; }\n",
       "    #csv table { border-collapse: collapse;}\n",
       "    #csv table td { padding: 4px 8px; border: 1px solid silver;} </style>`;\n",
       "\n",
       "  function csvToHtmlTable(str) {\n",
       "    return '<div id=\"csv\"><table><tr><td>' +  str.replace(/[\\n\\r]+$/g, '').replace(/[\\n\\r]+/g, '</td></tr><tr><td>')\n",
       "      .replace(/,/g, '</td><td>') + '</td></tr></table></div>';\n",
       "  }\n",
       "\n",
       "  function reqListener () {\n",
       "    if (el.title.endsWith(\".csv\")) {\n",
       "      iframe.setAttribute(\"srcdoc\", tblcss + csvToHtmlTable(this.responseText));\n",
       "    } else {\n",
       "      iframe.setAttribute(\"srcdoc\", this.responseText);\n",
       "    }\n",
       "    console.log(this.responseText);\n",
       "  }\n",
       "\n",
       "  const oReq = new XMLHttpRequest();\n",
       "  oReq.addEventListener(\"load\", reqListener);\n",
       "  oReq.open(\"GET\", el.title);\n",
       "  oReq.send();\n",
       "\n",
       "\n",
       "  //iframe.src = el.title;\n",
       "  const resultPane = document.querySelector(panelName + \"-pane\");\n",
       "  if (resultPane.classList.contains(\"hidden\")) {\n",
       "    resultPane.classList.remove(\"hidden\");\n",
       "  }\n",
       "}\n",
       "function closePanel(el) {\n",
       "  const panelName = \"#\" + el.getAttribute('paneName')\n",
       "  const resultPane = document.querySelector(panelName + \"-pane\");\n",
       "  if (!resultPane.classList.contains(\"hidden\")) {\n",
       "    resultPane.classList.add(\"hidden\");\n",
       "  }\n",
       "}\n",
       "\n",
       "</script>\n",
       "<div class=\"master-wrapper\">\n",
       "  <div class=\"block master-tbl\"><div>\n",
       "<style scoped>\n",
       "    .dataframe tbody tr th:only-of-type {\n",
       "        vertical-align: middle;\n",
       "    }\n",
       "\n",
       "    .dataframe tbody tr th {\n",
       "        vertical-align: top;\n",
       "    }\n",
       "\n",
       "    .dataframe thead th {\n",
       "        text-align: right;\n",
       "    }\n",
       "</style>\n",
       "<table border=\"1\" class=\"dataframe\">\n",
       "  <thead>\n",
       "    <tr style=\"text-align: right;\">\n",
       "      <th>project</th>\n",
       "      <th>uid</th>\n",
       "      <th>iter</th>\n",
       "      <th>start</th>\n",
       "      <th>state</th>\n",
       "      <th>name</th>\n",
       "      <th>labels</th>\n",
       "      <th>inputs</th>\n",
       "      <th>parameters</th>\n",
       "      <th>results</th>\n",
       "      <th>artifacts</th>\n",
       "    </tr>\n",
       "  </thead>\n",
       "  <tbody>\n",
       "    <tr>\n",
       "      <td>quick-start-tutorial-shapira</td>\n",
       "      <td><div title=\"d4d7f2e05e444142a124f730b6ccccf9\"><a href=\"https://dashboard.default-tenant.app.cust-cs-il-3-4-1.iguazio-cd1.com/mlprojects/quick-start-tutorial-shapira/jobs/monitor/d4d7f2e05e444142a124f730b6ccccf9/overview\" target=\"_blank\" >...b6ccccf9</a></div></td>\n",
       "      <td>0</td>\n",
       "      <td>Sep 19 13:16:38</td>\n",
       "      <td>completed</td>\n",
       "      <td>train_iris-train_iris</td>\n",
       "      <td><div class=\"dictlist\">v3io_user=shapira</div><div class=\"dictlist\">kind=job</div><div class=\"dictlist\">owner=shapira</div><div class=\"dictlist\">mlrun/client_version=1.1.0-rc22</div><div class=\"dictlist\">host=train-iris-train-iris-dtwgp</div></td>\n",
       "      <td><div class=\"artifact\" onclick=\"expandPanel(this)\" paneName=\"result2aa456cd\" title=\"files/v3io/projects/quick-start-tutorial-shapira/artifacts/prep_data-prep_data/0/cleaned_data.csv\">dataset</div></td>\n",
       "      <td><div class=\"dictlist\">label_column=label</div></td>\n",
       "      <td><div class=\"dictlist\">accuracy=1.0</div><div class=\"dictlist\">f1_score=1.0</div><div class=\"dictlist\">precision_score=1.0</div><div class=\"dictlist\">recall_score=1.0</div><div class=\"dictlist\">auc-micro=1.0</div><div class=\"dictlist\">auc-macro=1.0</div><div class=\"dictlist\">auc-weighted=1.0</div></td>\n",
       "      <td><div class=\"artifact\" onclick=\"expandPanel(this)\" paneName=\"result2aa456cd\" title=\"files/v3io/projects/quick-start-tutorial-shapira/artifacts/train_iris-train_iris/0/feature-importance.html\">feature-importance</div><div title=\"v3io:///projects/quick-start-tutorial-shapira/artifacts/train_iris-train_iris/0/test_set.parquet\">test_set</div><div class=\"artifact\" onclick=\"expandPanel(this)\" paneName=\"result2aa456cd\" title=\"files/v3io/projects/quick-start-tutorial-shapira/artifacts/train_iris-train_iris/0/confusion-matrix.html\">confusion-matrix</div><div class=\"artifact\" onclick=\"expandPanel(this)\" paneName=\"result2aa456cd\" title=\"files/v3io/projects/quick-start-tutorial-shapira/artifacts/train_iris-train_iris/0/roc-curves.html\">roc-curves</div><div title=\"v3io:///projects/quick-start-tutorial-shapira/artifacts/train_iris-train_iris/0/model/\">model</div></td>\n",
       "    </tr>\n",
       "  </tbody>\n",
       "</table>\n",
       "</div></div>\n",
       "  <div id=\"result2aa456cd-pane\" class=\"right-pane block hidden\">\n",
       "    <div class=\"pane-header\">\n",
       "      <span id=\"result2aa456cd-title\" class=\"pane-header-title\">Title</span>\n",
       "      <span onclick=\"closePanel(this)\" paneName=\"result2aa456cd\" class=\"close clickable\">&times;</span>\n",
       "    </div>\n",
       "    <iframe class=\"fileview\" id=\"result2aa456cd-body\"></iframe>\n",
       "  </div>\n",
       "</div>\n"
      ],
      "text/plain": [
       "<IPython.core.display.HTML object>"
      ]
     },
     "metadata": {},
     "output_type": "display_data"
    },
    {
     "name": "stdout",
     "output_type": "stream",
     "text": [
      "\n"
     ]
    },
    {
     "data": {
      "text/html": [
       "<b> > to track results use the .show() or .logs() methods  or <a href=\"https://dashboard.default-tenant.app.cust-cs-il-3-4-1.iguazio-cd1.com/mlprojects/quick-start-tutorial-shapira/jobs/monitor/d4d7f2e05e444142a124f730b6ccccf9/overview\" target=\"_blank\">click here</a> to open in UI</b>"
      ],
      "text/plain": [
       "<IPython.core.display.HTML object>"
      ]
     },
     "metadata": {},
     "output_type": "display_data"
    },
    {
     "name": "stdout",
     "output_type": "stream",
     "text": [
      "> 2022-09-19 13:16:40,762 [info] run executed, status=completed\n"
     ]
    }
   ],
   "source": [
    "train_run=project.run_function(function='train_iris',inputs={'dataset': dataset},params={'label_column': 'label'},local=False)"
   ]
  },
  {
   "cell_type": "markdown",
   "id": "2c68af31",
   "metadata": {},
   "source": [
    "#### Get Function Object \n",
    "For gets function object you will need to use the [get_function](https://docs.mlrun.org/en/latest/api/mlrun.projects.html?highlight=get_function#mlrun.projects.MlrunProject.get_function) method.\n",
    "This method allows you to get a function object based on the metadata in your project YAML file.\n",
    "````\n",
    "serving_func = project.get_function('<function name>')\n",
    "````"
   ]
  },
  {
   "cell_type": "code",
   "execution_count": 60,
   "id": "d014be10",
   "metadata": {},
   "outputs": [],
   "source": [
    "serving_func = project.get_function('serving')"
   ]
  },
  {
   "cell_type": "code",
   "execution_count": 62,
   "id": "48402e95",
   "metadata": {},
   "outputs": [
    {
     "data": {
      "text/plain": [
       "<mlrun.serving.states.TaskStep at 0x7f470b1bcb90>"
      ]
     },
     "execution_count": 62,
     "metadata": {},
     "output_type": "execute_result"
    }
   ],
   "source": [
    "serving_func.add_model('model',model_path=project.get_artifact_uri('my_model'))"
   ]
  },
  {
   "cell_type": "code",
   "execution_count": 63,
   "id": "fb22f83c",
   "metadata": {},
   "outputs": [
    {
     "name": "stdout",
     "output_type": "stream",
     "text": [
      "> 2022-09-19 13:08:37,067 [info] function spec saved to path: serving.yaml\n"
     ]
    },
    {
     "data": {
      "text/plain": [
       "<mlrun.runtimes.serving.ServingRuntime at 0x7f4720ac5910>"
      ]
     },
     "execution_count": 63,
     "metadata": {},
     "output_type": "execute_result"
    }
   ],
   "source": [
    "serving_func.export('serving.yaml')"
   ]
  },
  {
   "cell_type": "markdown",
   "id": "f19a81e9",
   "metadata": {},
   "source": [
    "Test your serving funciton locally before deploying it"
   ]
  },
  {
   "cell_type": "code",
   "execution_count": 56,
   "id": "ddd70da8",
   "metadata": {},
   "outputs": [],
   "source": [
    "# serving_server = serving_func.to_mock_server()"
   ]
  },
  {
   "cell_type": "code",
   "execution_count": 68,
   "id": "64acb464",
   "metadata": {},
   "outputs": [],
   "source": [
    "# serving_server.test('/',5)"
   ]
  },
  {
   "cell_type": "code",
   "execution_count": 70,
   "id": "c094d60c",
   "metadata": {},
   "outputs": [
    {
     "name": "stdout",
     "output_type": "stream",
     "text": [
      "kind: serving\n",
      "metadata:\n",
      "  name: serving\n",
      "  hash: 84e6c7140e66fc649f2c00b37275393cb0db4798\n",
      "  project: quick-start-tutorial-shapira\n",
      "  categories: []\n",
      "spec:\n",
      "  command: ''\n",
      "  args: []\n",
      "  image: mlrun/mlrun\n",
      "  build:\n",
      "    source: ./\n",
      "    commands: []\n",
      "  description: ''\n",
      "  disable_auto_mount: false\n",
      "  volumes: []\n",
      "  volume_mounts: []\n",
      "  env: []\n",
      "  resources:\n",
      "    requests:\n",
      "      memory: 1Mi\n",
      "      cpu: 25m\n",
      "    limits:\n",
      "      memory: 20Gi\n",
      "      cpu: '2'\n",
      "  node_selector:\n",
      "    app.iguazio.com/lifecycle: non-preemptible\n",
      "  priority_class_name: igz-workload-medium\n",
      "  preemption_mode: prevent\n",
      "  min_replicas: 1\n",
      "  max_replicas: 4\n",
      "  source: ''\n",
      "  function_kind: serving_v2\n",
      "  graph:\n",
      "    kind: router\n",
      "    routes:\n",
      "      model:\n",
      "        kind: task\n",
      "        class_name: ClassifierModel\n",
      "        class_args:\n",
      "          model_path: store://artifacts/quick-start-tutorial-shapira/my_model\n",
      "  default_class: ClassifierModel\n",
      "  secret_sources: []\n",
      "  affinity:\n",
      "    nodeAffinity:\n",
      "      requiredDuringSchedulingIgnoredDuringExecution:\n",
      "        nodeSelectorTerms:\n",
      "        - matchExpressions:\n",
      "          - key: app.iguazio.com/lifecycle\n",
      "            operator: NotIn\n",
      "            values:\n",
      "            - preemptible\n",
      "          - key: eks.amazonaws.com/capacityType\n",
      "            operator: NotIn\n",
      "            values:\n",
      "            - SPOT\n",
      "          - key: node-lifecycle\n",
      "            operator: NotIn\n",
      "            values:\n",
      "            - spot\n",
      "  tolerations: null\n",
      "  security_context: {}\n",
      "status:\n",
      "  internal_invocation_urls: []\n",
      "  external_invocation_urls: []\n",
      "verbose: false\n",
      "\n"
     ]
    }
   ],
   "source": [
    "print(project.get_function('serving').to_yaml())"
   ]
  },
  {
   "cell_type": "markdown",
   "id": "01f46338",
   "metadata": {},
   "source": [
    "**Changed pull_at_runtime to False for pull files on image creation**"
   ]
  },
  {
   "cell_type": "code",
   "execution_count": 71,
   "id": "23c280be",
   "metadata": {},
   "outputs": [
    {
     "name": "stdout",
     "output_type": "stream",
     "text": [
      "kind: project\n",
      "metadata:\n",
      "  name: quick-start-tutorial-shapira\n",
      "spec:\n",
      "  functions:\n",
      "  - name: prep_data\n",
      "    kind: job\n",
      "    image: mlrun/mlrun\n",
      "    handler: prep_data.prep_data\n",
      "    with_repo: true\n",
      "  - name: train_iris\n",
      "    kind: job\n",
      "    image: mlrun/mlrun\n",
      "    handler: train.train_iris\n",
      "    with_repo: true\n",
      "  - url: serving.yaml\n",
      "    name: serving\n",
      "    with_repo: true\n",
      "  workflows: []\n",
      "  artifacts: []\n",
      "  source: git://github.com/GiladShapira94/quick-start.git#master\n",
      "  origin_url: git://github.com/GiladShapira94/quick-start.git#refs/heads/master\n",
      "  load_source_on_run: false\n",
      "  desired_state: online\n",
      "\n"
     ]
    }
   ],
   "source": [
    "project.set_source(source,pull_at_runtime=False)\n",
    "print(project.to_yaml())"
   ]
  },
  {
   "cell_type": "markdown",
   "id": "95bf7994",
   "metadata": {},
   "source": [
    "#### Deploy Function\n",
    "For deplying remote function as nuclio or serving you will need to use the [deploy_function](https://docs.mlrun.org/en/latest/api/mlrun.projects.html?highlight=deploy_function#mlrun.projects.MlrunProject.deploy_function) method.\n",
    "You must use this method before invoke nuclio or serving fucntions.\n",
    "It is equivalent to func.deploy() method.\n",
    "````\n",
    "nuclio_func=project.deploy_function(function='<function name>')\n",
    "\n",
    "nuclio_func.function.invoke('/',{'int':4})\n",
    "````"
   ]
  },
  {
   "cell_type": "code",
   "execution_count": 72,
   "id": "9f38e0e6",
   "metadata": {},
   "outputs": [
    {
     "name": "stdout",
     "output_type": "stream",
     "text": [
      "> 2022-09-19 13:10:18,682 [info] Starting remote function deploy\n",
      "2022-09-19 13:10:22  (info) Deploying function\n",
      "2022-09-19 13:10:22  (info) Building\n",
      "2022-09-19 13:10:22  (info) Staging files and preparing base images\n",
      "2022-09-19 13:10:22  (info) Building processor image\n",
      "2022-09-19 13:11:47  (info) Build complete\n",
      "Failed to deploy. Details:\n",
      "Exception raised while running init_context [worker_id=0]\n",
      "Traceback (most recent call last):\n",
      "  File \"/usr/local/lib/python3.7/site-packages/mlrun/utils/helpers.py\", line 1161, in get_class\n",
      "    class_object = create_class(class_name)\n",
      "  File \"/usr/local/lib/python3.7/site-packages/mlrun/utils/helpers.py\", line 1105, in create_class\n",
      "    class_ = getattr(import_module(\".\".join(pkg_module)), clfclass)\n",
      "  File \"/usr/local/lib/python3.7/importlib/__init__.py\", line 127, in import_module\n",
      "    return _bootstrap._gcd_import(name[level:], package, level)\n",
      "  File \"<frozen importlib._bootstrap>\", line 1003, in _gcd_import\n",
      "  File \"<frozen importlib._bootstrap>\", line 942, in _sanity_check\n",
      "ValueError: Empty module name\n",
      "\n",
      "During handling of the above exception, another exception occurred:\n",
      "\n",
      "Traceback (most recent call last):\n",
      "  File \"/opt/nuclio/_nuclio_wrapper.py\", line 432, in <module>\n",
      "    run_wrapper()\n",
      "  File \"/opt/nuclio/_nuclio_wrapper.py\", line 420, in run_wrapper\n",
      "    loop.run_until_complete(wrapper_instance.initialize())\n",
      "  File \"/usr/local/lib/python3.7/asyncio/base_events.py\", line 587, in run_until_complete\n",
      "    return future.result()\n",
      "  File \"/opt/nuclio/_nuclio_wrapper.py\", line 147, in initialize\n",
      "    await self._initialize_context()\n",
      "  File \"/opt/nuclio/_nuclio_wrapper.py\", line 158, in _initialize_context\n",
      "    init_context_result = getattr(self._entrypoint_module, 'init_context')(self._context)\n",
      "  File \"/usr/local/lib/python3.7/site-packages/mlrun/serving/serving_wrapper.py\", line 6, in init_context\n",
      "    nuclio_init_hook(context, globals(), \"serving_v2\")\n",
      "  File \"/usr/local/lib/python3.7/site-packages/mlrun/runtimes/nuclio.py\", line 32, in nuclio_init_hook\n",
      "    v2_serving_init(context, data)\n",
      "  File \"/usr/local/lib/python3.7/site-packages/mlrun/serving/server.py\", line 312, in v2_serving_init\n",
      "    serving_handler = server.init_object(namespace or get_caller_globals())\n",
      "  File \"/usr/local/lib/python3.7/site-packages/mlrun/serving/server.py\", line 174, in init_object\n",
      "    self.graph.init_object(self.context, namespace, self.load_mode, reset=True)\n",
      "  File \"/usr/local/lib/python3.7/site-packages/mlrun/serving/states.py\", line 572, in init_object\n",
      "    route.init_object(context, namespace, mode, reset=reset)\n",
      "  File \"/usr/local/lib/python3.7/site-packages/mlrun/serving/states.py\", line 360, in init_object\n",
      "    self.class_name or self._default_class, namespace\n",
      "  File \"/usr/local/lib/python3.7/site-packages/mlrun/utils/helpers.py\", line 1163, in get_class\n",
      "    raise ImportError(f\"state init failed, class {class_name} not found, {exc}\")\n",
      "ImportError: state init failed, class ClassifierModel not found, Empty module name\n",
      "> 2022-09-19 13:12:11,801 [error] Nuclio function failed to deploy: {'function_state': 'error'}\n"
     ]
    },
    {
     "ename": "RunError",
     "evalue": "function serving deployment failed",
     "output_type": "error",
     "traceback": [
      "\u001b[0;31m---------------------------------------------------------------------------\u001b[0m",
      "\u001b[0;31mRunError\u001b[0m                                  Traceback (most recent call last)",
      "\u001b[0;32m<ipython-input-72-f8fb52f80387>\u001b[0m in \u001b[0;36m<module>\u001b[0;34m\u001b[0m\n\u001b[0;32m----> 1\u001b[0;31m \u001b[0mserving_dep\u001b[0m \u001b[0;34m=\u001b[0m \u001b[0mproject\u001b[0m\u001b[0;34m.\u001b[0m\u001b[0mdeploy_function\u001b[0m\u001b[0;34m(\u001b[0m\u001b[0;34m'serving'\u001b[0m\u001b[0;34m)\u001b[0m\u001b[0;34m\u001b[0m\u001b[0;34m\u001b[0m\u001b[0m\n\u001b[0m",
      "\u001b[0;32m~/.pythonlibs/jupyter-shapira/lib/python3.7/site-packages/mlrun/projects/project.py\u001b[0m in \u001b[0;36mdeploy_function\u001b[0;34m(self, function, dashboard, models, env, tag, verbose, builder_env)\u001b[0m\n\u001b[1;32m   2208\u001b[0m             \u001b[0mverbose\u001b[0m\u001b[0;34m=\u001b[0m\u001b[0mverbose\u001b[0m\u001b[0;34m,\u001b[0m\u001b[0;34m\u001b[0m\u001b[0;34m\u001b[0m\u001b[0m\n\u001b[1;32m   2209\u001b[0m             \u001b[0mbuilder_env\u001b[0m\u001b[0;34m=\u001b[0m\u001b[0mbuilder_env\u001b[0m\u001b[0;34m,\u001b[0m\u001b[0;34m\u001b[0m\u001b[0;34m\u001b[0m\u001b[0m\n\u001b[0;32m-> 2210\u001b[0;31m             \u001b[0mproject_object\u001b[0m\u001b[0;34m=\u001b[0m\u001b[0mself\u001b[0m\u001b[0;34m,\u001b[0m\u001b[0;34m\u001b[0m\u001b[0;34m\u001b[0m\u001b[0m\n\u001b[0m\u001b[1;32m   2211\u001b[0m         )\n\u001b[1;32m   2212\u001b[0m \u001b[0;34m\u001b[0m\u001b[0m\n",
      "\u001b[0;32m~/.pythonlibs/jupyter-shapira/lib/python3.7/site-packages/mlrun/projects/operations.py\u001b[0m in \u001b[0;36mdeploy_function\u001b[0;34m(function, dashboard, models, env, tag, verbose, builder_env, project_object)\u001b[0m\n\u001b[1;32m    295\u001b[0m                 \u001b[0mfunction\u001b[0m\u001b[0;34m.\u001b[0m\u001b[0madd_model\u001b[0m\u001b[0;34m(\u001b[0m\u001b[0;34m**\u001b[0m\u001b[0mmodel_args\u001b[0m\u001b[0;34m)\u001b[0m\u001b[0;34m\u001b[0m\u001b[0;34m\u001b[0m\u001b[0m\n\u001b[1;32m    296\u001b[0m         address = function.deploy(\n\u001b[0;32m--> 297\u001b[0;31m             \u001b[0mdashboard\u001b[0m\u001b[0;34m=\u001b[0m\u001b[0mdashboard\u001b[0m\u001b[0;34m,\u001b[0m \u001b[0mtag\u001b[0m\u001b[0;34m=\u001b[0m\u001b[0mtag\u001b[0m\u001b[0;34m,\u001b[0m \u001b[0mverbose\u001b[0m\u001b[0;34m=\u001b[0m\u001b[0mverbose\u001b[0m\u001b[0;34m,\u001b[0m \u001b[0mbuilder_env\u001b[0m\u001b[0;34m=\u001b[0m\u001b[0mbuilder_env\u001b[0m\u001b[0;34m\u001b[0m\u001b[0;34m\u001b[0m\u001b[0m\n\u001b[0m\u001b[1;32m    298\u001b[0m         )\n\u001b[1;32m    299\u001b[0m         \u001b[0;31m# return object with the same outputs as the KFP op (allow using the same pipeline)\u001b[0m\u001b[0;34m\u001b[0m\u001b[0;34m\u001b[0m\u001b[0;34m\u001b[0m\u001b[0m\n",
      "\u001b[0;32m~/.pythonlibs/jupyter-shapira/lib/python3.7/site-packages/mlrun/runtimes/serving.py\u001b[0m in \u001b[0;36mdeploy\u001b[0;34m(self, dashboard, project, tag, verbose, auth_info, builder_env)\u001b[0m\n\u001b[1;32m    596\u001b[0m \u001b[0;34m\u001b[0m\u001b[0m\n\u001b[1;32m    597\u001b[0m         return super().deploy(\n\u001b[0;32m--> 598\u001b[0;31m             \u001b[0mdashboard\u001b[0m\u001b[0;34m,\u001b[0m \u001b[0mproject\u001b[0m\u001b[0;34m,\u001b[0m \u001b[0mtag\u001b[0m\u001b[0;34m,\u001b[0m \u001b[0mverbose\u001b[0m\u001b[0;34m,\u001b[0m \u001b[0mauth_info\u001b[0m\u001b[0;34m,\u001b[0m \u001b[0mbuilder_env\u001b[0m\u001b[0;34m=\u001b[0m\u001b[0mbuilder_env\u001b[0m\u001b[0;34m\u001b[0m\u001b[0;34m\u001b[0m\u001b[0m\n\u001b[0m\u001b[1;32m    599\u001b[0m         )\n\u001b[1;32m    600\u001b[0m \u001b[0;34m\u001b[0m\u001b[0m\n",
      "\u001b[0;32m~/.pythonlibs/jupyter-shapira/lib/python3.7/site-packages/mlrun/runtimes/function.py\u001b[0m in \u001b[0;36mdeploy\u001b[0;34m(self, dashboard, project, tag, verbose, auth_info, builder_env)\u001b[0m\n\u001b[1;32m    529\u001b[0m             \u001b[0mdata\u001b[0m \u001b[0;34m=\u001b[0m \u001b[0mdb\u001b[0m\u001b[0;34m.\u001b[0m\u001b[0mremote_builder\u001b[0m\u001b[0;34m(\u001b[0m\u001b[0mself\u001b[0m\u001b[0;34m,\u001b[0m \u001b[0;32mFalse\u001b[0m\u001b[0;34m,\u001b[0m \u001b[0mbuilder_env\u001b[0m\u001b[0;34m=\u001b[0m\u001b[0mbuilder_env\u001b[0m\u001b[0;34m)\u001b[0m\u001b[0;34m\u001b[0m\u001b[0;34m\u001b[0m\u001b[0m\n\u001b[1;32m    530\u001b[0m             \u001b[0mself\u001b[0m\u001b[0;34m.\u001b[0m\u001b[0mstatus\u001b[0m \u001b[0;34m=\u001b[0m \u001b[0mdata\u001b[0m\u001b[0;34m[\u001b[0m\u001b[0;34m\"data\"\u001b[0m\u001b[0;34m]\u001b[0m\u001b[0;34m.\u001b[0m\u001b[0mget\u001b[0m\u001b[0;34m(\u001b[0m\u001b[0;34m\"status\"\u001b[0m\u001b[0;34m)\u001b[0m\u001b[0;34m\u001b[0m\u001b[0;34m\u001b[0m\u001b[0m\n\u001b[0;32m--> 531\u001b[0;31m             \u001b[0mself\u001b[0m\u001b[0;34m.\u001b[0m\u001b[0m_wait_for_function_deployment\u001b[0m\u001b[0;34m(\u001b[0m\u001b[0mdb\u001b[0m\u001b[0;34m,\u001b[0m \u001b[0mverbose\u001b[0m\u001b[0;34m=\u001b[0m\u001b[0mverbose\u001b[0m\u001b[0;34m)\u001b[0m\u001b[0;34m\u001b[0m\u001b[0;34m\u001b[0m\u001b[0m\n\u001b[0m\u001b[1;32m    532\u001b[0m \u001b[0;34m\u001b[0m\u001b[0m\n\u001b[1;32m    533\u001b[0m             \u001b[0;31m# NOTE: on older mlrun versions & nuclio versions, function are exposed via NodePort\u001b[0m\u001b[0;34m\u001b[0m\u001b[0;34m\u001b[0m\u001b[0;34m\u001b[0m\u001b[0m\n",
      "\u001b[0;32m~/.pythonlibs/jupyter-shapira/lib/python3.7/site-packages/mlrun/runtimes/function.py\u001b[0m in \u001b[0;36m_wait_for_function_deployment\u001b[0;34m(self, db, verbose)\u001b[0m\n\u001b[1;32m    599\u001b[0m         \u001b[0;32mif\u001b[0m \u001b[0mstate\u001b[0m \u001b[0;34m!=\u001b[0m \u001b[0;34m\"ready\"\u001b[0m\u001b[0;34m:\u001b[0m\u001b[0;34m\u001b[0m\u001b[0;34m\u001b[0m\u001b[0m\n\u001b[1;32m    600\u001b[0m             \u001b[0mlogger\u001b[0m\u001b[0;34m.\u001b[0m\u001b[0merror\u001b[0m\u001b[0;34m(\u001b[0m\u001b[0;34m\"Nuclio function failed to deploy\"\u001b[0m\u001b[0;34m,\u001b[0m \u001b[0mfunction_state\u001b[0m\u001b[0;34m=\u001b[0m\u001b[0mstate\u001b[0m\u001b[0;34m)\u001b[0m\u001b[0;34m\u001b[0m\u001b[0;34m\u001b[0m\u001b[0m\n\u001b[0;32m--> 601\u001b[0;31m             \u001b[0;32mraise\u001b[0m \u001b[0mRunError\u001b[0m\u001b[0;34m(\u001b[0m\u001b[0;34mf\"function {self.metadata.name} deployment failed\"\u001b[0m\u001b[0;34m)\u001b[0m\u001b[0;34m\u001b[0m\u001b[0;34m\u001b[0m\u001b[0m\n\u001b[0m\u001b[1;32m    602\u001b[0m \u001b[0;34m\u001b[0m\u001b[0m\n\u001b[1;32m    603\u001b[0m     \u001b[0;34m@\u001b[0m\u001b[0mmin_nuclio_versions\u001b[0m\u001b[0;34m(\u001b[0m\u001b[0;34m\"1.5.20\"\u001b[0m\u001b[0;34m,\u001b[0m \u001b[0;34m\"1.6.10\"\u001b[0m\u001b[0;34m)\u001b[0m\u001b[0;34m\u001b[0m\u001b[0;34m\u001b[0m\u001b[0m\n",
      "\u001b[0;31mRunError\u001b[0m: function serving deployment failed"
     ]
    }
   ],
   "source": [
    "serving_dep = project.deploy_function('serving')"
   ]
  },
  {
   "cell_type": "code",
   "execution_count": 14,
   "id": "c2c9cb34",
   "metadata": {},
   "outputs": [
    {
     "name": "stdout",
     "output_type": "stream",
     "text": [
      "> 2022-08-03 11:04:19,149 [info] invoking function: {'method': 'POST', 'path': 'http://nuclio-new-git-proj-serving.default-tenant.svc.cluster.local:8080/'}\n"
     ]
    },
    {
     "data": {
      "text/plain": [
       "13"
      ]
     },
     "execution_count": 14,
     "metadata": {},
     "output_type": "execute_result"
    }
   ],
   "source": [
    "serving_dep.function.invoke('/',5)"
   ]
  },
  {
   "cell_type": "code",
   "execution_count": 15,
   "id": "c80647b3",
   "metadata": {},
   "outputs": [
    {
     "name": "stdout",
     "output_type": "stream",
     "text": [
      "> 2022-08-03 11:04:19,190 [info] Starting remote function deploy\n",
      "2022-08-03 11:04:19  (info) Deploying function\n",
      "2022-08-03 11:04:19  (info) Building\n",
      "2022-08-03 11:04:19  (info) Staging files and preparing base images\n",
      "2022-08-03 11:04:19  (info) Building processor image\n",
      "2022-08-03 11:06:14  (info) Build complete\n",
      "2022-08-03 11:06:20  (info) Function deploy complete\n",
      "> 2022-08-03 11:06:27,415 [info] successfully deployed function: {'internal_invocation_urls': ['nuclio-new-git-proj-nuclio.default-tenant.svc.cluster.local:8080'], 'external_invocation_urls': ['new-git-proj-nuclio-new-git-proj.default-tenant.app.cust-cs-il-3-4-1.iguazio-cd1.com/']}\n"
     ]
    }
   ],
   "source": [
    "nuclio_func = project.deploy_function('nuclio')"
   ]
  },
  {
   "cell_type": "code",
   "execution_count": 16,
   "id": "8f871da1",
   "metadata": {},
   "outputs": [
    {
     "name": "stdout",
     "output_type": "stream",
     "text": [
      "> 2022-08-03 11:06:47,537 [info] invoking function: {'method': 'POST', 'path': 'http://nuclio-new-git-proj-nuclio.default-tenant.svc.cluster.local:8080/'}\n"
     ]
    },
    {
     "data": {
      "text/plain": [
       "{'int': 12}"
      ]
     },
     "execution_count": 16,
     "metadata": {},
     "output_type": "execute_result"
    }
   ],
   "source": [
    "nuclio_func.function.invoke('/',{'int':4})"
   ]
  }
 ],
 "metadata": {
  "kernelspec": {
   "display_name": "Python 3",
   "language": "python",
   "name": "python3"
  },
  "language_info": {
   "codemirror_mode": {
    "name": "ipython",
    "version": 3
   },
   "file_extension": ".py",
   "mimetype": "text/x-python",
   "name": "python",
   "nbconvert_exporter": "python",
   "pygments_lexer": "ipython3",
   "version": "3.7.6"
  }
 },
 "nbformat": 4,
 "nbformat_minor": 5
}
